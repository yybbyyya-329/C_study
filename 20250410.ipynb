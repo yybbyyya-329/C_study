{
  "nbformat": 4,
  "nbformat_minor": 0,
  "metadata": {
    "colab": {
      "provenance": [],
      "authorship_tag": "ABX9TyPpMsmDcrA4znMbwp5XykmD",
      "include_colab_link": true
    },
    "kernelspec": {
      "name": "python3",
      "display_name": "Python 3"
    },
    "language_info": {
      "name": "python"
    }
  },
  "cells": [
    {
      "cell_type": "markdown",
      "metadata": {
        "id": "view-in-github",
        "colab_type": "text"
      },
      "source": [
        "<a href=\"https://colab.research.google.com/github/yybbyyya-329/C_study/blob/20250410_1/20250410.ipynb\" target=\"_parent\"><img src=\"https://colab.research.google.com/assets/colab-badge.svg\" alt=\"Open In Colab\"/></a>"
      ]
    },
    {
      "cell_type": "code",
      "execution_count": 1,
      "metadata": {
        "colab": {
          "base_uri": "https://localhost:8080/"
        },
        "id": "7bmfurfImWtu",
        "outputId": "705523c1-656c-4e80-f2bf-f2509b3430d7"
      },
      "outputs": [
        {
          "output_type": "stream",
          "name": "stdout",
          "text": [
            "초기속도는 (m/s): 300\n",
            "각도는 (도): 13\n",
            "초기속도 V0x = 292.31 m/s\n",
            "초기속도 V0y = 67.49 m/s\n",
            "최고점의 높이 = 232.36 m\n",
            "최고점 도달 시간 = 6.89 s\n",
            "수평 이동 거리 = 4025.86 m\n",
            "지면에 닿을 때 Vx = 292.31 m/s\n",
            "지면에 닿을 때 Vy = -67.49 m/s\n",
            "지면에 닿을 때 속력 V = 300.00 m/s\n",
            "속도 벡터 성분: (292.31, -67.49)\n"
          ]
        }
      ],
      "source": [
        "import math\n",
        "\n",
        "# 상수 정의\n",
        "PI = math.pi\n",
        "g = 9.8  # 중력 가속도 (m/s^2)\n",
        "\n",
        "# 입력 받기\n",
        "V0 = float(input(\"초기속도는 (m/s): \"))\n",
        "angle = float(input(\"각도는 (도): \"))\n",
        "\n",
        "# 라디안으로 변환\n",
        "rad = math.radians(angle)\n",
        "\n",
        "# 1. x, y 방향 초기속도\n",
        "V0x = V0 * math.cos(rad)\n",
        "V0y = V0 * math.sin(rad)\n",
        "print(f\"초기속도 V0x = {V0x:.2f} m/s\")\n",
        "print(f\"초기속도 V0y = {V0y:.2f} m/s\")\n",
        "\n",
        "# 2. 최고점 높이\n",
        "H = (V0y ** 2) / (2 * g)\n",
        "print(f\"최고점의 높이 = {H:.2f} m\")\n",
        "\n",
        "# 3. 최고점 도달 시간\n",
        "t = V0y / g\n",
        "print(f\"최고점 도달 시간 = {t:.2f} s\")\n",
        "\n",
        "# 4. 수평 이동 거리\n",
        "s = 2 * t * V0x\n",
        "print(f\"수평 이동 거리 = {s:.2f} m\")\n",
        "\n",
        "# 5. 지면 도달 시 속도 벡터\n",
        "Vy = -V0y\n",
        "V = math.sqrt(V0x ** 2 + Vy ** 2)\n",
        "print(f\"지면에 닿을 때 Vx = {V0x:.2f} m/s\")\n",
        "print(f\"지면에 닿을 때 Vy = {Vy:.2f} m/s\")\n",
        "print(f\"지면에 닿을 때 속력 V = {V:.2f} m/s\")\n",
        "print(f\"속도 벡터 성분: ({V0x:.2f}, {Vy:.2f})\")\n"
      ]
    }
  ]
}